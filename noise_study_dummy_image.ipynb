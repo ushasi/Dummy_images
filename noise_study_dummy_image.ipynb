{
  "cells": [
    {
      "cell_type": "code",
      "execution_count": null,
      "metadata": {
        "id": "Aezw_NZd50Yh"
      },
      "outputs": [],
      "source": [
        "import cv2\n",
        "import numpy as np\n",
        "from google.colab.patches import cv2_imshow\n",
        "import sys\n",
        "import matplotlib.pyplot as plt\n",
        "import random\n",
        "import math\n",
        "from skimage.io import imread, imshow\n",
        "from skimage.color import rgb2hsv, rgb2gray, rgb2yuv\n",
        "from sklearn.decomposition import PCA"
      ]
    },
    {
      "cell_type": "code",
      "execution_count": null,
      "metadata": {
        "id": "7licvxpd7La4"
      },
      "outputs": [],
      "source": [
        "def dunn(k_list):\n",
        "    \"\"\" Dunn index [CVI]\n",
        "    \n",
        "    Parameters\n",
        "    ----------\n",
        "    k_list : list of np.arrays\n",
        "        A list containing a numpy array for each cluster |c| = number of clusters\n",
        "        c[K] is np.array([N, p]) (N : number of samples in cluster K, p : sample dimension)\n",
        "    \"\"\"\n",
        "    deltas = np.ones([len(k_list), len(k_list)])*10000#00\n",
        "    big_deltas = np.zeros([len(k_list), 1])\n",
        "    l_range = list(range(0, len(k_list)))\n",
        "    \n",
        "    for k in l_range:\n",
        "        for l in (l_range[0:k]+l_range[k+1:]):\n",
        "            deltas[k, l] = delta(k_list[k], k_list[l])\n",
        "        \n",
        "        big_deltas[k] = big_delta(k_list[k])\n",
        "\n",
        "    di = np.min(deltas)/np.max(big_deltas)\n",
        "    return di\n",
        "\n",
        "def delta(ck, cl):\n",
        "    values = np.ones([len(ck), len(cl)])*100#00\n",
        "    \n",
        "    for i in range(0, len(ck)):\n",
        "        for j in range(0, len(cl)):\n",
        "            values[i, j] = np.linalg.norm(ck[i]-cl[j])\n",
        "            \n",
        "    return np.min(values)\n",
        "\n",
        "def big_delta(ci):\n",
        "    values = np.zeros([len(ci), len(ci)])\n",
        "    \n",
        "    for i in range(0, len(ci)):\n",
        "        for j in range(0, len(ci)):\n",
        "            values[i, j] = np.linalg.norm(ci[i]-ci[j])\n",
        "            \n",
        "    return np.max(values)"
      ]
    },
    {
      "cell_type": "code",
      "execution_count": null,
      "metadata": {
        "id": "JoXT66_95_8f"
      },
      "outputs": [],
      "source": [
        "dunn_plot = np.zeros((10))"
      ]
    },
    {
      "cell_type": "code",
      "execution_count": null,
      "metadata": {
        "colab": {
          "base_uri": "https://localhost:8080/",
          "height": 315
        },
        "id": "W3LDjQ7CGDi_",
        "outputId": "eec35c4f-5c0d-46c3-83ba-00f720a86cdd"
      },
      "outputs": [
        {
          "output_type": "execute_result",
          "data": {
            "text/plain": [
              "<matplotlib.image.AxesImage at 0x7f7c8ab4b710>"
            ]
          },
          "metadata": {},
          "execution_count": 7
        },
        {
          "output_type": "display_data",
          "data": {
            "text/plain": [
              "<Figure size 432x288 with 1 Axes>"
            ],
            "image/png": "[encoded data removed]"
          },
          "metadata": {
            "needs_background": "light"
          }
        }
      ],
      "source": [
        "\n",
        "mean = 0.5\n",
        "var = 0.1\n",
        "sigma = var ** 0.5\n",
        "\n",
        "gaussian = np.random.normal(mean, sigma, (256, 256)) #  np.zeros((224, 224), np.float32)\n",
        "gray[:, :] = gray[:, :] + gaussian\n",
        "\n",
        "imshow(gray)"
      ]
    },
    {
      "cell_type": "code",
      "execution_count": null,
      "metadata": {
        "colab": {
          "base_uri": "https://localhost:8080/",
          "height": 315
        },
        "id": "JiyRJt1qGUPS",
        "outputId": "8f0ea9a9-7d46-4ffd-ab5b-3184d09c1198"
      },
      "outputs": [
        {
          "output_type": "execute_result",
          "data": {
            "text/plain": [
              "<matplotlib.image.AxesImage at 0x7f7c8aacad90>"
            ]
          },
          "metadata": {},
          "execution_count": 8
        },
        {
          "output_type": "display_data",
          "data": {
            "text/plain": [
              "<Figure size 432x288 with 1 Axes>"
            ],
            "image/png": "[encoded data removed]"
          },
          "metadata": {
            "needs_background": "light"
          }
        }
      ],
      "source": [
        "  img = imread('/content/dummy2.png')\n",
        "  resized_img = cv2.resize(img, (256, 256)) \n",
        "  gray = cv2.cvtColor(resized_img, cv2.COLOR_BGR2GRAY)\n",
        "  imshow(gray)"
      ]
    },
    {
      "cell_type": "code",
      "execution_count": null,
      "metadata": {
        "colab": {
          "base_uri": "https://localhost:8080/"
        },
        "id": "9WD97Hz36Aon",
        "outputId": "382f4163-fcd5-4cf6-d475-dd3169e34f00"
      },
      "outputs": [
        {
          "output_type": "stream",
          "name": "stdout",
          "text": [
            "0\n"
          ]
        }
      ],
      "source": [
        "for noise in range(1):  \n",
        "  img = imread('/content/dummy2.png')\n",
        "  resized_img = cv2.resize(img, (256, 256)) \n",
        "  gray = cv2.cvtColor(resized_img, cv2.COLOR_BGR2GRAY)\n",
        "\n",
        "  mean = noise * 0.01\n",
        "  var = 0.1\n",
        "  sigma = var ** 0.5\n",
        "\n",
        "  gaussian = np.random.normal(mean, sigma, (256, 256)) #  np.zeros((224, 224), np.float32)\n",
        "  #gray[:, :] = gray[:, :] + gaussian\n",
        "\n",
        "\n",
        "  #thresh = cv2.threshold(gray, 0, 255, cv2.THRESH_BINARY_INV | cv2.THRESH_OTSU)[1]\n",
        "  output = cv2.connectedComponentsWithStats(gray, 4, cv2.CV_32S)\n",
        "  (numLabels, labels, stats, centroids) = output\n",
        "\n",
        "  #individual component mask\n",
        "  componentMasks = np.zeros((numLabels +3, 256, 256))\n",
        "  for cntr in range(stats.shape[0]):\n",
        "      componentMasks[cntr,:,:] = (labels == cntr).astype(\"uint8\") * 255\n",
        "      \n",
        "  #adding complete elements\n",
        "  componentMasks[10,:,:] = (labels == 1).astype(\"uint8\") * 255 + (labels == 2).astype(\"uint8\") * 255 + (labels == 3).astype(\"uint8\") * 255\n",
        "  componentMasks[11,:,:] = (labels == 4).astype(\"uint8\") * 255 + (labels == 5).astype(\"uint8\") * 255 + (labels == 6).astype(\"uint8\") * 255\n",
        "  componentMasks[12,:,:] = (labels == 7).astype(\"uint8\") * 255 + (labels == 8).astype(\"uint8\") * 255 + (labels == 9).astype(\"uint8\") * 255\n",
        "\n",
        "  #centering individual components\n",
        "  componentMasks_centered = np.zeros((numLabels+3 , 256, 256)) \n",
        "  for k in range(numLabels):\n",
        "    ret,thresh = cv2.threshold(componentMasks[k],127,255,0)\n",
        "    thresh = thresh.astype(np.uint8)\n",
        "    contours, hierarchy = cv2.findContours(thresh,cv2.RETR_TREE,cv2.CHAIN_APPROX_SIMPLE)\n",
        "\n",
        "    for i in range(0, len(contours)):\n",
        "        cnt = contours[i]\n",
        "        x,y,w,h = cv2.boundingRect(cnt)\n",
        "        componentMasks_centered[k,128 - h//2:128 - h//2 + h,128 - w//2:128 - w//2 + w] = componentMasks[k, y:y+h, x:x+w]\n",
        "\n",
        "  #grouped components\n",
        "  for k in range(10,13):\n",
        "    ret,thresh = cv2.threshold(componentMasks[k],127,255,0)\n",
        "    thresh = thresh.astype(np.uint8)\n",
        "    contours, hierarchy = cv2.findContours(thresh,cv2.RETR_TREE,cv2.CHAIN_APPROX_SIMPLE)\n",
        "    x_min = 256\n",
        "    x_max = 0\n",
        "    y_min = 256\n",
        "    y_max = 0\n",
        "    for i in range(0, len(contours)):\n",
        "          #if (i % 2 == 0):\n",
        "          cnt = contours[i]\n",
        "          x,y,w,h = cv2.boundingRect(cnt)\n",
        "          if (x_min > x):\n",
        "            x_min = x\n",
        "          if (y_min > y):\n",
        "            y_min = y\n",
        "          if (x_max < x + w):\n",
        "            x_max = x + w\n",
        "          if (y_max < y + h):\n",
        "            y_max = y + h\n",
        "          w = x_max - x_min\n",
        "          h = y_max - y_min\n",
        "          #cv2.rectangle(thresh,(x,y),(x+w,y+h),(255,255,0),2)\n",
        "          componentMasks_centered[k,128 - h//2:128 - h//2 + h,128 - w//2:128 - w//2 + w] = componentMasks[k, y_min:y_max, x_min:x_max]\n",
        "\n",
        "  #Fourier mask generation\n",
        "  mask= np.zeros((componentMasks_centered.shape[0], 256,256), dtype=complex)\n",
        "  fourier_mag= np.zeros((componentMasks_centered.shape[0], 256,256), dtype=float)\n",
        "  f_size = 15\n",
        "\n",
        "  for ctr in range(componentMasks_centered.shape[0]):\n",
        "    #for k in range(3):\n",
        "    #mask[i,:,:,k] = fourier_mask(ellipse_image[:,:,k], i)\n",
        "    mask[ctr,:,:] = np.fft.fftshift(np.fft.fft2((componentMasks_centered[ctr,:,:])))\n",
        "    for i in range(256):\n",
        "      for j in range(256):\n",
        "        fourier_mag[ctr,i,j] = np.sqrt(np.square(mask[ctr,i,j].real) + np.square(mask[ctr,i,j].imag))\n",
        "        '''\n",
        "        if (np.isinf(fourier_mag[ctr,i,j])):\n",
        "          print('hi')\n",
        "          fourier_mag[ctr,i,j] = 0\n",
        "        '''\n",
        "  fourier_mag[np.isinf(fourier_mag)] = 0\n",
        "  '''\n",
        "  fig, ax = plt.subplots(1,2,figsize=(10,10))\n",
        "  ax[0].imshow(np.log(abs(mask[componentMasks_centered.shape[0] -2,:,:])), cmap='gray')\n",
        "  ax[0].set_title('Fourier ellipse', fontsize = f_size)\n",
        "\n",
        "  #fourier_mag[:,:,:] = np.log(abs(fourier_mag[:,:,:]))\n",
        "  ax[1].imshow(((fourier_mag[componentMasks_centered.shape[0] -1,:,:])), cmap = 'gray')\n",
        "  ax[1].set_title('Greyscale Image', fontsize = f_size);\n",
        "  '''\n",
        "\n",
        "\n",
        "  #quantizing 16 levels\n",
        "  no_of_ellipses = componentMasks_centered.shape[0]\n",
        "  quant = 4\n",
        "  range_gap = fourier_mag.shape[1]//quant\n",
        "\n",
        "  a_nm = np.zeros((no_of_ellipses,quant * quant,4096))\n",
        "\n",
        "\n",
        "  for k in range(no_of_ellipses):\n",
        "    ctr1 = 0\n",
        "    p = 0\n",
        "    for i in range(quant):\n",
        "      ctr2 = 0\n",
        "      for j in range(quant):\n",
        "        a_nm[k][p][:] = fourier_mag[k,ctr1:ctr1+range_gap,ctr2:ctr2+range_gap].flatten()\n",
        "        p = p+1\n",
        "        ctr2 = ctr2 + range_gap     \n",
        "\n",
        "      ctr1 = ctr1 + range_gap\n",
        "\n",
        "  #energy calculation\n",
        "  energy_nm = np.zeros((no_of_ellipses,quant * quant))\n",
        "  sum_nm = np.zeros((no_of_ellipses,quant * quant))\n",
        "\n",
        "  for i in range(no_of_ellipses):\n",
        "    for quad in range(quant * quant):\n",
        "      for j in range(4096):\n",
        "        sum_nm[i,quad] = sum_nm[i,quad] + a_nm[i,quad,j] ** 2\n",
        "        '''\n",
        "        if (math.isinf(a_nm[i,quad,j] ** 2)):\n",
        "          print(a_nm[i,quad,j],i,quad,j)\n",
        "        '''\n",
        "      energy_nm[i,quad] = np.sqrt(sum_nm[i,quad])\n",
        "      \n",
        "  print(noise)\n",
        "  dunn_plot[noise] = dunn(sum_nm)"
      ]
    },
    {
      "cell_type": "code",
      "source": [
        "plt.plot(dunn_plot)  # A higher Dunn index indicates better clustering"
      ],
      "metadata": {
        "colab": {
          "base_uri": "https://localhost:8080/",
          "height": 294
        },
        "id": "Z6Y2JApplPYy",
        "outputId": "33084ac0-817f-4588-c930-37d201a70374"
      },
      "execution_count": null,
      "outputs": [
        {
          "output_type": "execute_result",
          "data": {
            "text/plain": [
              "[<matplotlib.lines.Line2D at 0x7f7c81a04110>]"
            ]
          },
          "metadata": {},
          "execution_count": 27
        },
        {
          "output_type": "display_data",
          "data": {
            "text/plain": [
              "<Figure size 432x288 with 1 Axes>"
            ],
            "image/png": "[encoded data removed]"
          },
          "metadata": {
            "needs_background": "light"
          }
        }
      ]
    },
    {
      "cell_type": "code",
      "source": [
        "dunn_plot[0] = dunn(sum_nm)"
      ],
      "metadata": {
        "colab": {
          "base_uri": "https://localhost:8080/"
        },
        "id": "1J23_01hlTPM",
        "outputId": "9352c468-9c2d-4407-9e94-2da92a4b6e13"
      },
      "execution_count": null,
      "outputs": [
        {
          "output_type": "execute_result",
          "data": {
            "text/plain": [
              "4.194432321338404e-11"
            ]
          },
          "metadata": {},
          "execution_count": 28
        }
      ]
    },
    {
      "cell_type": "code",
      "source": [
        "dunn_plot[0] = 4.194432321338404e-11\n",
        "dunn_plot[1] = 3.494e-11\n",
        "dunn_plot[2] = 3.17e-11\n",
        "dunn_plot[3] = 3.00e-11\n",
        "dunn_plot[4] = 2.76e-11\n",
        "dunn_plot[5] = 2.1e-11\n",
        "dunn_plot[6] = 1.6e-11\n",
        "dunn_plot[7] = 1.2e-11\n",
        "dunn_plot[8] = 0"
      ],
      "metadata": {
        "id": "nuRmU2w6lavT"
      },
      "execution_count": null,
      "outputs": []
    },
    {
      "cell_type": "code",
      "source": [
        "plt.plot(dunn_plot)  #shape distortion (increasing differences in major and minor axis of ellipses)"
      ],
      "metadata": {
        "colab": {
          "base_uri": "https://localhost:8080/",
          "height": 294
        },
        "id": "VstkJBBqqtgS",
        "outputId": "40a26d76-4b67-41c5-a9e8-052a9f7704a3"
      },
      "execution_count": null,
      "outputs": [
        {
          "output_type": "execute_result",
          "data": {
            "text/plain": [
              "[<matplotlib.lines.Line2D at 0x7f7c817efb10>]"
            ]
          },
          "metadata": {},
          "execution_count": 40
        },
        {
          "output_type": "display_data",
          "data": {
            "text/plain": [
              "<Figure size 432x288 with 1 Axes>"
            ],
            "image/png": "[encoded data removed]"
          },
          "metadata": {
            "needs_background": "light"
          }
        }
      ]
    },
    {
      "cell_type": "code",
      "source": [
        "dunn_plot[1] = 3.494e-11\n",
        "dunn_plot[2] = 2.22e-11\n",
        "dunn_plot[3] = 3.00e-11\n",
        "dunn_plot[4] = 4.51e-11\n",
        "dunn_plot[5] = 4.32e-11\n",
        "dunn_plot[6] = 3.16e-11\n",
        "dunn_plot[7] = 2.87e-11\n",
        "dunn_plot[8] = 3.14e-11\n",
        "\n",
        "plt.plot(dunn_plot)  #location shift ()"
      ],
      "metadata": {
        "colab": {
          "base_uri": "https://localhost:8080/",
          "height": 294
        },
        "id": "ok-A6pMzuxBt",
        "outputId": "b7d140d5-2e8d-4af8-b218-14a4e92f1ba9"
      },
      "execution_count": null,
      "outputs": [
        {
          "output_type": "execute_result",
          "data": {
            "text/plain": [
              "[<matplotlib.lines.Line2D at 0x7f7c81896ad0>]"
            ]
          },
          "metadata": {},
          "execution_count": 36
        },
        {
          "output_type": "display_data",
          "data": {
            "text/plain": [
              "<Figure size 432x288 with 1 Axes>"
            ],
            "image/png": "[encoded data removed]"
          },
          "metadata": {
            "needs_background": "light"
          }
        }
      ]
    }
  ],
  "metadata": {
    "colab": {
      "name": "noise_study_dummy_image.ipynb",
      "provenance": []
    },
    "kernelspec": {
      "display_name": "Python 3",
      "name": "python3"
    },
    "language_info": {
      "name": "python"
    }
  },
  "nbformat": 4,
  "nbformat_minor": 0
}