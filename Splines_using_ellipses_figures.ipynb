{
  "nbformat": 4,
  "nbformat_minor": 0,
  "metadata": {
    "colab": {
      "name": "Splines_using_ellipses_figures.ipynb",
      "provenance": [],
      "collapsed_sections": []
    },
    "kernelspec": {
      "name": "python3",
      "display_name": "Python 3"
    },
    "language_info": {
      "name": "python"
    }
  },
  "cells": [
    {
      "cell_type": "code",
      "source": [
        "import numpy as np\n",
        "from matplotlib import pyplot as plt\n",
        "\n",
        "from math import pi\n",
        "import cv2\n",
        "from google.colab.patches import cv2_imshow\n",
        "import sys\n",
        "import random\n",
        "import math\n",
        "from skimage.io import imread, imshow\n",
        "from skimage.color import rgb2hsv, rgb2gray, rgb2yuv\n",
        "from sklearn.decomposition import PCA"
      ],
      "metadata": {
        "id": "piMaJrqdE7cO"
      },
      "execution_count": 1,
      "outputs": []
    },
    {
      "cell_type": "code",
      "source": [
        "from scipy import interpolate"
      ],
      "metadata": {
        "id": "hLP0pIDtRPSU"
      },
      "execution_count": 2,
      "outputs": []
    },
    {
      "cell_type": "code",
      "source": [
        "def hanging_line(point1, point2):\n",
        "    import numpy as np\n",
        "\n",
        "    a = (point2[1] - point1[1])/(np.cosh(point2[0]) - np.cosh(point1[0]))\n",
        "    b = point1[1] - a*np.cosh(point1[0])\n",
        "    x = np.linspace(point1[0], point2[0], 100)\n",
        "    y = a*np.cosh(x) + b\n",
        "\n",
        "    return (x,y)"
      ],
      "metadata": {
        "id": "dCg7rjPAdDHK"
      },
      "execution_count": 3,
      "outputs": []
    },
    {
      "cell_type": "code",
      "source": [
        "def make_image(data, outputname, size=(10, 10), dpi=300):\n",
        "    fig = plt.figure()\n",
        "    fig.set_size_inches(size)\n",
        "    ax = plt.Axes(fig, [0., 0., 1., 1.])\n",
        "    ax.set_axis_off()\n",
        "    fig.add_axes(ax)\n",
        "    plt.set_cmap('hot')\n",
        "    ax.imshow(data, aspect='equal')\n",
        "    plt.savefig(outputname, dpi=dpi,transparent = True, bbox_inches = 'tight', pad_inches = 0)\n",
        "\n"
      ],
      "metadata": {
        "id": "OotPl9j_qrsW"
      },
      "execution_count": 4,
      "outputs": []
    },
    {
      "cell_type": "code",
      "execution_count": 43,
      "metadata": {
        "colab": {
          "base_uri": "https://localhost:8080/",
          "height": 710
        },
        "id": "iInHpKHFE3n-",
        "outputId": "8cc8222d-aa79-4056-c3c7-43567b4adb3c"
      },
      "outputs": [
        {
          "output_type": "stream",
          "name": "stderr",
          "text": [
            "/usr/local/lib/python3.7/dist-packages/ipykernel_launcher.py:22: DeprecationWarning: The binary mode of fromstring is deprecated, as it behaves surprisingly on unicode inputs. Use frombuffer instead\n"
          ]
        },
        {
          "output_type": "display_data",
          "data": {
            "text/plain": [
              "<Figure size 432x288 with 1 Axes>"
            ],
            "image/png": "[encoded data removed]"
          },
          "metadata": {
            "needs_background": "light"
          }
        },
        {
          "output_type": "display_data",
          "data": {
            "text/plain": [
              "<Figure size 720x720 with 1 Axes>"
            ],
            "image/png": "[encoded data removed]"
          },
          "metadata": {
            "needs_background": "light"
          }
        }
      ],
      "source": [
        "u=random.randint(1, 5) *10    #x-position of the center\n",
        "v=random.randint(1, 5)  *10   #y-position of the center\n",
        "a=random.randint(3, 10)     #radius on the x-axis\n",
        "b=random.randint(3, 10)    #radius on the y-axis\n",
        "\n",
        "t = np.linspace(0, 2*pi, 100)\n",
        "\n",
        "u1=random.randint(1, 5)    #x-position of the center\n",
        "v1=random.randint(1, 5)   #y-position of the center\n",
        "a1=random.randint(3, 10)   #radius on the x-axis\n",
        "b1=random.randint(3, 10)   #radius on the y-axis\n",
        "\n",
        "fig = plt.figure()\n",
        "line1, = plt.plot( u1+a1*np.cos(t) , v1+b1*np.sin(t) )\n",
        "line1, = plt.plot( u+a*np.cos(t) , v+b*np.sin(t) )\n",
        "plt.axis('off')\n",
        "\n",
        "#redraw the canvas\n",
        "fig.canvas.draw()\n",
        "\n",
        "# convert canvas to image\n",
        "img = np.fromstring(fig.canvas.tostring_rgb(), dtype=np.uint8,sep='')\n",
        "img  = img.reshape(fig.canvas.get_width_height()[::-1] + (3,))\n",
        "\n",
        "img = cv2.cvtColor(img,cv2.COLOR_RGB2BGR)\n",
        "\n",
        "make_image(img, '/tmp/out.png')"
      ]
    },
    {
      "cell_type": "code",
      "source": [
        "no_of_points = 2*random.randint(4, 6)\n",
        "\n",
        "tnumber = [random.randint(0, 100) for x in range(no_of_points)]\n"
      ],
      "metadata": {
        "id": "9NyxKNnvC0iy"
      },
      "execution_count": 58,
      "outputs": []
    },
    {
      "cell_type": "code",
      "source": [
        "points = [u+a*np.cos(tnumber) , v+b*np.sin(tnumber)]\n",
        "point = np.array(points).T #pairs = (x1,y1), (x2, y2)123456\n"
      ],
      "metadata": {
        "id": "W5P3QovaFCSO"
      },
      "execution_count": 59,
      "outputs": []
    },
    {
      "cell_type": "code",
      "source": [
        "fig = plt.figure()\n",
        "plt.axis('off')\n",
        "\n",
        "x = point[0,:]\n",
        "y = point[1,:]\n",
        "\n",
        "pairs = np.zeros((no_of_points//2,4))\n",
        "\n",
        "j = 0\n",
        "for i in range(no_of_points//2):\n",
        "  pairs[i//2,0] = point[j,0]\n",
        "  pairs[i//2,1] = point[j,1]\n",
        "  pairs[i//2,2] = point[j+1,0]\n",
        "  pairs[i//2,3] = point[j+1,1]\n",
        "  j = j + 2\n",
        "  #print(i)\n",
        "\n",
        "\n",
        "j=0\n",
        "for i in range(0,no_of_points//2):\n",
        "  pairs[i//2,0] = point[j,0]\n",
        "  pairs[i//2,1] = point[j,1]\n",
        "  pairs[i//2,2] = point[j+1,0]\n",
        "  pairs[i//2,3] = point[j+1,1]\n",
        "\n",
        "  point1 = pairs[i,0:2]\n",
        "  point2 = pairs[i,2:4]\n",
        "  print(i)\n",
        "  j = j + 2\n",
        "  x,y = hanging_line(point1, point2)\n",
        "\n",
        "  #plt.plot(point1[0], point1[1], 'o')\n",
        "  #plt.plot(point2[0], point2[1], 'o')\n",
        "  plt.plot(x,y)\n",
        "\n",
        "plt.plot( u+a*np.cos(t) , v+b*np.sin(t) )"
      ],
      "metadata": {
        "colab": {
          "base_uri": "https://localhost:8080/",
          "height": 433
        },
        "id": "lR1CYQR9Sxoi",
        "outputId": "5ba15277-b38a-4846-93f5-c45d4a132683"
      },
      "execution_count": 60,
      "outputs": [
        {
          "output_type": "stream",
          "name": "stdout",
          "text": [
            "0\n",
            "1\n",
            "2\n",
            "3\n"
          ]
        },
        {
          "output_type": "stream",
          "name": "stderr",
          "text": [
            "/usr/local/lib/python3.7/dist-packages/ipykernel_launcher.py:4: RuntimeWarning: invalid value encountered in double_scalars\n",
            "  after removing the cwd from sys.path.\n",
            "/usr/local/lib/python3.7/dist-packages/ipykernel_launcher.py:4: RuntimeWarning: invalid value encountered in double_scalars\n",
            "  after removing the cwd from sys.path.\n"
          ]
        },
        {
          "output_type": "execute_result",
          "data": {
            "text/plain": [
              "[<matplotlib.lines.Line2D at 0x7fa27fab7690>]"
            ]
          },
          "metadata": {},
          "execution_count": 60
        },
        {
          "output_type": "display_data",
          "data": {
            "text/plain": [
              "<Figure size 432x288 with 1 Axes>"
            ],
            "image/png": "[encoded data removed]"
          },
          "metadata": {
            "needs_background": "light"
          }
        }
      ]
    },
    {
      "cell_type": "code",
      "source": [
        "#redraw the canvas\n",
        "fig.canvas.draw()\n",
        "\n",
        "# convert canvas to image\n",
        "img = np.fromstring(fig.canvas.tostring_rgb(), dtype=np.uint8,sep='')\n",
        "img  = img.reshape(fig.canvas.get_width_height()[::-1] + (3,))\n",
        "\n",
        "img = cv2.cvtColor(img,cv2.COLOR_RGB2BGR)\n",
        "\n",
        "make_image(img, '/tmp/out.png')"
      ],
      "metadata": {
        "colab": {
          "base_uri": "https://localhost:8080/",
          "height": 497
        },
        "id": "gtEz6cFgDVpA",
        "outputId": "3a1966b9-ecf1-45d8-f8a3-f4b59397ca37"
      },
      "execution_count": 61,
      "outputs": [
        {
          "output_type": "stream",
          "name": "stderr",
          "text": [
            "/usr/local/lib/python3.7/dist-packages/ipykernel_launcher.py:5: DeprecationWarning: The binary mode of fromstring is deprecated, as it behaves surprisingly on unicode inputs. Use frombuffer instead\n",
            "  \"\"\"\n"
          ]
        },
        {
          "output_type": "display_data",
          "data": {
            "text/plain": [
              "<Figure size 720x720 with 1 Axes>"
            ],
            "image/png": "[encoded data removed]"
          },
          "metadata": {
            "needs_background": "light"
          }
        }
      ]
    },
    {
      "cell_type": "code",
      "source": [
        "# Python program to explain cv2.ellipse() method\n",
        "\t\n",
        "image = np.zeros((256,256,3));\n",
        "no_of_ellipses = (image.shape[0]//50 - 1) * (image.shape[1]//50 - 1) +2\n",
        "startAngle = 0\n",
        "endAngle = 360\n",
        "f_size = 15\n",
        "thickness = -1\n",
        "mean = 0\n",
        "var = 0.1\n",
        "sigma = var ** 0.5\n",
        "\n",
        "img = image\n",
        "\n",
        "mask= np.zeros((no_of_ellipses, 256,256,3), dtype=complex)\n",
        "fourier_mag= np.zeros((no_of_ellipses, 256,256,3), dtype=float)\n",
        "\n",
        "\n",
        "grid_space = 50\n",
        "ctr=0;\n",
        "\n",
        "for pi in range(image.shape[0]//50 - 1):\n",
        "  for pj in range(image.shape[0]//50 - 1):\n",
        "    base = np.zeros((256,256,3));\n",
        "\n",
        "    #center_coordinates = ((pi + 1)*grid_space + random.randint(-10, 10), (pj + 1)*grid_space + random.randint(-10, 10))\n",
        "    center_coordinates = ((pi + 1)*grid_space + random.randint(-10, 10), (pj + 1)*grid_space + random.randint(-10, 10))\n",
        "    u=random.randint(1, 5)     #x-position of the center\n",
        "    v=random.randint(1, 5)    #y-position of the center\n",
        "    a=random.randint(3, 10)     #radius on the x-axis\n",
        "    b=random.randint(3, 10)      #radius on the y-axis\n",
        "    \n",
        "    angle = random.randint(0, 180)\n",
        "    color = (random.randint(0, 255), random.randint(0, 255), random.randint(0, 255))\n",
        "    t = np.linspace(0, 2*pi, 100)\n",
        "    plt.plot( u+a*np.cos(t) , v+b*np.sin(t) )\n",
        "\n",
        "    #ellipse_image = cv2.ellipse(base, (image.shape[0]//2,image.shape[1]//2), axesLength, angle,\n",
        "                startAngle, endAngle, color, thickness)\n",
        "    image = cv2.ellipse(image, center_coordinates, axesLength, angle,\n",
        "                startAngle, endAngle, color, thickness)\n",
        "\n",
        "\n",
        "\n",
        "fig, ax = plt.subplots(1,2,figsize=(10,10))\n",
        "ax[0].imshow(np.log(abs(mask[no_of_ellipses -2,:,:,0])), cmap='gray')\n",
        "ax[0].set_title('Fourier ellipse', fontsize = f_size)\n",
        "\n",
        "fourier_mag[:,:,:,0] = np.log(abs(fourier_mag[:,:,:,0]))\n",
        "ax[1].imshow(((fourier_mag[no_of_ellipses -1,:,:,0])), cmap = 'gray')\n",
        "ax[1].set_title('Greyscale Image', fontsize = f_size);\n",
        "\n",
        "\n",
        "# Displaying the image\n",
        "cv2_imshow(image)\n",
        "\n",
        "\n",
        "cv2.waitKey(0)"
      ],
      "metadata": {
        "colab": {
          "base_uri": "https://localhost:8080/",
          "height": 798
        },
        "id": "3c7iVkukpPMa",
        "outputId": "b05ee221-7334-4108-d5d5-d7a92e1d947c"
      },
      "execution_count": 16,
      "outputs": [
        {
          "output_type": "stream",
          "name": "stderr",
          "text": [
            "/usr/local/lib/python3.7/dist-packages/ipykernel_launcher.py:45: RuntimeWarning: divide by zero encountered in log\n",
            "/usr/local/lib/python3.7/dist-packages/ipykernel_launcher.py:48: RuntimeWarning: divide by zero encountered in log\n"
          ]
        },
        {
          "output_type": "display_data",
          "data": {
            "text/plain": [
              "<PIL.Image.Image image mode=RGB size=256x256 at 0x7F28770455D0>"
            ],
            "image/png": "[encoded data removed]"
          },
          "metadata": {}
        },
        {
          "output_type": "execute_result",
          "data": {
            "text/plain": [
              "-1"
            ]
          },
          "metadata": {},
          "execution_count": 16
        },
        {
          "output_type": "stream",
          "name": "stderr",
          "text": [
            "/usr/local/lib/python3.7/dist-packages/matplotlib/image.py:452: UserWarning: Warning: converting a masked element to nan.\n",
            "  dv = np.float64(self.norm.vmax) - np.float64(self.norm.vmin)\n",
            "/usr/local/lib/python3.7/dist-packages/matplotlib/image.py:459: UserWarning: Warning: converting a masked element to nan.\n",
            "  a_min = np.float64(newmin)\n",
            "/usr/local/lib/python3.7/dist-packages/matplotlib/image.py:464: UserWarning: Warning: converting a masked element to nan.\n",
            "  a_max = np.float64(newmax)\n",
            "<string>:6: UserWarning: Warning: converting a masked element to nan.\n",
            "/usr/local/lib/python3.7/dist-packages/matplotlib/colors.py:993: UserWarning: Warning: converting a masked element to nan.\n",
            "  data = np.asarray(value)\n"
          ]
        },
        {
          "output_type": "display_data",
          "data": {
            "text/plain": [
              "<Figure size 720x720 with 2 Axes>"
            ],
            "image/png": "[encoded data removed]"
          },
          "metadata": {
            "needs_background": "light"
          }
        }
      ]
    },
    {
      "cell_type": "code",
      "source": [
        ""
      ],
      "metadata": {
        "id": "WeRShDtlmaJF"
      },
      "execution_count": null,
      "outputs": []
    },
    {
      "cell_type": "code",
      "source": [
        "for noise in range(1):  \n",
        "  #img = imread('/content/dummy2.png')\n",
        "  resized_img = cv2.resize(img, (256, 256)) \n",
        "  gray = cv2.cvtColor(resized_img, cv2.COLOR_BGR2GRAY)\n",
        "\n",
        "  mean = noise * 0.01\n",
        "  var = 0.1\n",
        "  sigma = var ** 0.5\n",
        "\n",
        "  gaussian = np.random.normal(mean, sigma, (256, 256)) #  np.zeros((224, 224), np.float32)\n",
        "  #gray[:, :] = gray[:, :] + gaussian\n",
        "\n",
        "\n",
        "  #thresh = cv2.threshold(gray, 0, 255, cv2.THRESH_BINARY_INV | cv2.THRESH_OTSU)[1]\n",
        "  output = cv2.connectedComponentsWithStats(gray, 4, cv2.CV_32S)\n",
        "  (numLabels, labels, stats, centroids) = output\n",
        "\n",
        "  #individual component mask\n",
        "  componentMasks = np.zeros((numLabels +3, 256, 256))\n",
        "  for cntr in range(stats.shape[0]):\n",
        "      componentMasks[cntr,:,:] = (labels == cntr).astype(\"uint8\") * 255\n",
        "      \n",
        "  #adding complete elements\n",
        "  componentMasks[10,:,:] = (labels == 1).astype(\"uint8\") * 255 + (labels == 2).astype(\"uint8\") * 255 + (labels == 3).astype(\"uint8\") * 255\n",
        "  componentMasks[11,:,:] = (labels == 4).astype(\"uint8\") * 255 + (labels == 5).astype(\"uint8\") * 255 + (labels == 6).astype(\"uint8\") * 255\n",
        "  componentMasks[12,:,:] = (labels == 7).astype(\"uint8\") * 255 + (labels == 8).astype(\"uint8\") * 255 + (labels == 9).astype(\"uint8\") * 255\n",
        "\n",
        "  #centering individual components\n",
        "  componentMasks_centered = np.zeros((numLabels+3 , 256, 256)) \n",
        "  for k in range(numLabels):\n",
        "    ret,thresh = cv2.threshold(componentMasks[k],127,255,0)\n",
        "    thresh = thresh.astype(np.uint8)\n",
        "    contours, hierarchy = cv2.findContours(thresh,cv2.RETR_TREE,cv2.CHAIN_APPROX_SIMPLE)\n",
        "\n",
        "    for i in range(0, len(contours)):\n",
        "        cnt = contours[i]\n",
        "        x,y,w,h = cv2.boundingRect(cnt)\n",
        "        componentMasks_centered[k,128 - h//2:128 - h//2 + h,128 - w//2:128 - w//2 + w] = componentMasks[k, y:y+h, x:x+w]\n",
        "\n",
        "  #grouped components\n",
        "  for k in range(10,13):\n",
        "    ret,thresh = cv2.threshold(componentMasks[k],127,255,0)\n",
        "    thresh = thresh.astype(np.uint8)\n",
        "    contours, hierarchy = cv2.findContours(thresh,cv2.RETR_TREE,cv2.CHAIN_APPROX_SIMPLE)\n",
        "    x_min = 256\n",
        "    x_max = 0\n",
        "    y_min = 256\n",
        "    y_max = 0\n",
        "    for i in range(0, len(contours)):\n",
        "          #if (i % 2 == 0):\n",
        "          cnt = contours[i]\n",
        "          x,y,w,h = cv2.boundingRect(cnt)\n",
        "          if (x_min > x):\n",
        "            x_min = x\n",
        "          if (y_min > y):\n",
        "            y_min = y\n",
        "          if (x_max < x + w):\n",
        "            x_max = x + w\n",
        "          if (y_max < y + h):\n",
        "            y_max = y + h\n",
        "          w = x_max - x_min\n",
        "          h = y_max - y_min\n",
        "          #cv2.rectangle(thresh,(x,y),(x+w,y+h),(255,255,0),2)\n",
        "          componentMasks_centered[k,128 - h//2:128 - h//2 + h,128 - w//2:128 - w//2 + w] = componentMasks[k, y_min:y_max, x_min:x_max]\n",
        "\n",
        "  #Fourier mask generation\n",
        "  mask= np.zeros((componentMasks_centered.shape[0], 256,256), dtype=complex)\n",
        "  fourier_mag= np.zeros((componentMasks_centered.shape[0], 256,256), dtype=float)\n",
        "  f_size = 15\n",
        "\n",
        "  for ctr in range(componentMasks_centered.shape[0]):\n",
        "    #for k in range(3):\n",
        "    #mask[i,:,:,k] = fourier_mask(ellipse_image[:,:,k], i)\n",
        "    mask[ctr,:,:] = np.fft.fftshift(np.fft.fft2((componentMasks_centered[ctr,:,:])))\n",
        "    for i in range(256):\n",
        "      for j in range(256):\n",
        "        fourier_mag[ctr,i,j] = np.sqrt(np.square(mask[ctr,i,j].real) + np.square(mask[ctr,i,j].imag))\n",
        "        '''\n",
        "        if (np.isinf(fourier_mag[ctr,i,j])):\n",
        "          print('hi')\n",
        "          fourier_mag[ctr,i,j] = 0\n",
        "        '''\n",
        "  fourier_mag[np.isinf(fourier_mag)] = 0\n",
        "  '''\n",
        "  fig, ax = plt.subplots(1,2,figsize=(10,10))\n",
        "  ax[0].imshow(np.log(abs(mask[componentMasks_centered.shape[0] -2,:,:])), cmap='gray')\n",
        "  ax[0].set_title('Fourier ellipse', fontsize = f_size)\n",
        "\n",
        "  #fourier_mag[:,:,:] = np.log(abs(fourier_mag[:,:,:]))\n",
        "  ax[1].imshow(((fourier_mag[componentMasks_centered.shape[0] -1,:,:])), cmap = 'gray')\n",
        "  ax[1].set_title('Greyscale Image', fontsize = f_size);\n",
        "  '''\n",
        "\n",
        "\n",
        "  #quantizing 16 levels\n",
        "  no_of_ellipses = componentMasks_centered.shape[0]\n",
        "  quant = 4\n",
        "  range_gap = fourier_mag.shape[1]//quant\n",
        "\n",
        "  a_nm = np.zeros((no_of_ellipses,quant * quant,4096))\n",
        "\n",
        "\n",
        "  for k in range(no_of_ellipses):\n",
        "    ctr1 = 0\n",
        "    p = 0\n",
        "    for i in range(quant):\n",
        "      ctr2 = 0\n",
        "      for j in range(quant):\n",
        "        a_nm[k][p][:] = fourier_mag[k,ctr1:ctr1+range_gap,ctr2:ctr2+range_gap].flatten()\n",
        "        p = p+1\n",
        "        ctr2 = ctr2 + range_gap     \n",
        "\n",
        "      ctr1 = ctr1 + range_gap\n",
        "\n",
        "  #energy calculation\n",
        "  energy_nm = np.zeros((no_of_ellipses,quant * quant))\n",
        "  sum_nm = np.zeros((no_of_ellipses,quant * quant))\n",
        "\n",
        "  for i in range(no_of_ellipses):\n",
        "    for quad in range(quant * quant):\n",
        "      for j in range(4096):\n",
        "        sum_nm[i,quad] = sum_nm[i,quad] + a_nm[i,quad,j] ** 2\n",
        "        '''\n",
        "        if (math.isinf(a_nm[i,quad,j] ** 2)):\n",
        "          print(a_nm[i,quad,j],i,quad,j)\n",
        "        '''\n",
        "      energy_nm[i,quad] = np.sqrt(sum_nm[i,quad])\n",
        "      \n",
        "  print(noise)\n",
        "  dunn_plot[noise] = dunn(sum_nm)"
      ],
      "metadata": {
        "id": "8WvA-yE4bvrH"
      },
      "execution_count": null,
      "outputs": []
    }
  ]
}